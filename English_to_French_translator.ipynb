{
  "cells": [
    {
      "cell_type": "markdown",
      "metadata": {
        "id": "view-in-github",
        "colab_type": "text"
      },
      "source": [
        "<a href=\"https://colab.research.google.com/github/saurav188/Apple-home-page-duplucate/blob/master/English_to_French_translator.ipynb\" target=\"_parent\"><img src=\"https://colab.research.google.com/assets/colab-badge.svg\" alt=\"Open In Colab\"/></a>"
      ]
    },
    {
      "cell_type": "markdown",
      "source": [
        "#**English to French Translator**"
      ],
      "metadata": {
        "id": "yzIlmwXTwrlb"
      }
    },
    {
      "cell_type": "code",
      "execution_count": null,
      "metadata": {
        "id": "8v7O--bNqkt_",
        "colab": {
          "base_uri": "https://localhost:8080/"
        },
        "outputId": "5e37f4ae-8e01-4eec-8afa-1728662c01d3"
      },
      "outputs": [
        {
          "output_type": "stream",
          "name": "stdout",
          "text": [
            "Drive already mounted at /content/drive; to attempt to forcibly remount, call drive.mount(\"/content/drive\", force_remount=True).\n"
          ]
        }
      ],
      "source": [
        "from google.colab import drive\n",
        "drive.mount('/content/drive')"
      ]
    },
    {
      "cell_type": "code",
      "execution_count": null,
      "metadata": {
        "id": "fGsjh9yXsA8p"
      },
      "outputs": [],
      "source": [
        "import pandas as pd\n",
        "import numpy as np\n",
        "import tensorflow as tf\n",
        "from tensorflow import keras\n",
        "from tensorflow.keras import layers\n",
        "from keras.optimizers import Adam\n",
        "from keras.losses import sparse_categorical_crossentropy\n",
        "from keras.preprocessing.text import Tokenizer\n",
        "from keras_preprocessing.sequence import pad_sequences\n",
        "import collections\n",
        "\n",
        "df=pd.read_csv(\"/content/drive/MyDrive/en-fr.csv/eng_-french.csv\")"
      ]
    },
    {
      "cell_type": "markdown",
      "source": [
        "#Data Preprocessing"
      ],
      "metadata": {
        "id": "zwxf5LDxw11P"
      }
    },
    {
      "cell_type": "code",
      "source": [
        "df.shape"
      ],
      "metadata": {
        "colab": {
          "base_uri": "https://localhost:8080/"
        },
        "id": "Q2TzMpGxVXTR",
        "outputId": "d458e986-f607-4eea-9406-30e17320a59b"
      },
      "execution_count": null,
      "outputs": [
        {
          "output_type": "execute_result",
          "data": {
            "text/plain": [
              "(175621, 2)"
            ]
          },
          "metadata": {},
          "execution_count": 24
        }
      ]
    },
    {
      "cell_type": "code",
      "source": [
        "df.head()"
      ],
      "metadata": {
        "colab": {
          "base_uri": "https://localhost:8080/",
          "height": 206
        },
        "id": "ZngyK852hnjb",
        "outputId": "7f3bb4e0-7a26-4088-e000-15dfae5e67d4"
      },
      "execution_count": null,
      "outputs": [
        {
          "output_type": "execute_result",
          "data": {
            "text/plain": [
              "  English words/sentences French words/sentences\n",
              "0                     Hi.                 Salut!\n",
              "1                    Run!                Cours !\n",
              "2                    Run!               Courez !\n",
              "3                    Who?                  Qui ?\n",
              "4                    Wow!             Ça alors !"
            ],
            "text/html": [
              "\n",
              "  <div id=\"df-afc69bdd-98f3-48bf-9253-ee1c795cf8b4\">\n",
              "    <div class=\"colab-df-container\">\n",
              "      <div>\n",
              "<style scoped>\n",
              "    .dataframe tbody tr th:only-of-type {\n",
              "        vertical-align: middle;\n",
              "    }\n",
              "\n",
              "    .dataframe tbody tr th {\n",
              "        vertical-align: top;\n",
              "    }\n",
              "\n",
              "    .dataframe thead th {\n",
              "        text-align: right;\n",
              "    }\n",
              "</style>\n",
              "<table border=\"1\" class=\"dataframe\">\n",
              "  <thead>\n",
              "    <tr style=\"text-align: right;\">\n",
              "      <th></th>\n",
              "      <th>English words/sentences</th>\n",
              "      <th>French words/sentences</th>\n",
              "    </tr>\n",
              "  </thead>\n",
              "  <tbody>\n",
              "    <tr>\n",
              "      <th>0</th>\n",
              "      <td>Hi.</td>\n",
              "      <td>Salut!</td>\n",
              "    </tr>\n",
              "    <tr>\n",
              "      <th>1</th>\n",
              "      <td>Run!</td>\n",
              "      <td>Cours !</td>\n",
              "    </tr>\n",
              "    <tr>\n",
              "      <th>2</th>\n",
              "      <td>Run!</td>\n",
              "      <td>Courez !</td>\n",
              "    </tr>\n",
              "    <tr>\n",
              "      <th>3</th>\n",
              "      <td>Who?</td>\n",
              "      <td>Qui ?</td>\n",
              "    </tr>\n",
              "    <tr>\n",
              "      <th>4</th>\n",
              "      <td>Wow!</td>\n",
              "      <td>Ça alors !</td>\n",
              "    </tr>\n",
              "  </tbody>\n",
              "</table>\n",
              "</div>\n",
              "      <button class=\"colab-df-convert\" onclick=\"convertToInteractive('df-afc69bdd-98f3-48bf-9253-ee1c795cf8b4')\"\n",
              "              title=\"Convert this dataframe to an interactive table.\"\n",
              "              style=\"display:none;\">\n",
              "        \n",
              "  <svg xmlns=\"http://www.w3.org/2000/svg\" height=\"24px\"viewBox=\"0 0 24 24\"\n",
              "       width=\"24px\">\n",
              "    <path d=\"M0 0h24v24H0V0z\" fill=\"none\"/>\n",
              "    <path d=\"M18.56 5.44l.94 2.06.94-2.06 2.06-.94-2.06-.94-.94-2.06-.94 2.06-2.06.94zm-11 1L8.5 8.5l.94-2.06 2.06-.94-2.06-.94L8.5 2.5l-.94 2.06-2.06.94zm10 10l.94 2.06.94-2.06 2.06-.94-2.06-.94-.94-2.06-.94 2.06-2.06.94z\"/><path d=\"M17.41 7.96l-1.37-1.37c-.4-.4-.92-.59-1.43-.59-.52 0-1.04.2-1.43.59L10.3 9.45l-7.72 7.72c-.78.78-.78 2.05 0 2.83L4 21.41c.39.39.9.59 1.41.59.51 0 1.02-.2 1.41-.59l7.78-7.78 2.81-2.81c.8-.78.8-2.07 0-2.86zM5.41 20L4 18.59l7.72-7.72 1.47 1.35L5.41 20z\"/>\n",
              "  </svg>\n",
              "      </button>\n",
              "      \n",
              "  <style>\n",
              "    .colab-df-container {\n",
              "      display:flex;\n",
              "      flex-wrap:wrap;\n",
              "      gap: 12px;\n",
              "    }\n",
              "\n",
              "    .colab-df-convert {\n",
              "      background-color: #E8F0FE;\n",
              "      border: none;\n",
              "      border-radius: 50%;\n",
              "      cursor: pointer;\n",
              "      display: none;\n",
              "      fill: #1967D2;\n",
              "      height: 32px;\n",
              "      padding: 0 0 0 0;\n",
              "      width: 32px;\n",
              "    }\n",
              "\n",
              "    .colab-df-convert:hover {\n",
              "      background-color: #E2EBFA;\n",
              "      box-shadow: 0px 1px 2px rgba(60, 64, 67, 0.3), 0px 1px 3px 1px rgba(60, 64, 67, 0.15);\n",
              "      fill: #174EA6;\n",
              "    }\n",
              "\n",
              "    [theme=dark] .colab-df-convert {\n",
              "      background-color: #3B4455;\n",
              "      fill: #D2E3FC;\n",
              "    }\n",
              "\n",
              "    [theme=dark] .colab-df-convert:hover {\n",
              "      background-color: #434B5C;\n",
              "      box-shadow: 0px 1px 3px 1px rgba(0, 0, 0, 0.15);\n",
              "      filter: drop-shadow(0px 1px 2px rgba(0, 0, 0, 0.3));\n",
              "      fill: #FFFFFF;\n",
              "    }\n",
              "  </style>\n",
              "\n",
              "      <script>\n",
              "        const buttonEl =\n",
              "          document.querySelector('#df-afc69bdd-98f3-48bf-9253-ee1c795cf8b4 button.colab-df-convert');\n",
              "        buttonEl.style.display =\n",
              "          google.colab.kernel.accessAllowed ? 'block' : 'none';\n",
              "\n",
              "        async function convertToInteractive(key) {\n",
              "          const element = document.querySelector('#df-afc69bdd-98f3-48bf-9253-ee1c795cf8b4');\n",
              "          const dataTable =\n",
              "            await google.colab.kernel.invokeFunction('convertToInteractive',\n",
              "                                                     [key], {});\n",
              "          if (!dataTable) return;\n",
              "\n",
              "          const docLinkHtml = 'Like what you see? Visit the ' +\n",
              "            '<a target=\"_blank\" href=https://colab.research.google.com/notebooks/data_table.ipynb>data table notebook</a>'\n",
              "            + ' to learn more about interactive tables.';\n",
              "          element.innerHTML = '';\n",
              "          dataTable['output_type'] = 'display_data';\n",
              "          await google.colab.output.renderOutput(dataTable, element);\n",
              "          const docLink = document.createElement('div');\n",
              "          docLink.innerHTML = docLinkHtml;\n",
              "          element.appendChild(docLink);\n",
              "        }\n",
              "      </script>\n",
              "    </div>\n",
              "  </div>\n",
              "  "
            ]
          },
          "metadata": {},
          "execution_count": 3
        }
      ]
    },
    {
      "cell_type": "code",
      "source": [
        "df.isna().sum()"
      ],
      "metadata": {
        "colab": {
          "base_uri": "https://localhost:8080/"
        },
        "id": "OA0xL44AUyN-",
        "outputId": "c41cf5ed-b3bd-4325-83fb-8c4d9db05b06"
      },
      "execution_count": null,
      "outputs": [
        {
          "output_type": "execute_result",
          "data": {
            "text/plain": [
              "English words/sentences    0\n",
              "French words/sentences     0\n",
              "dtype: int64"
            ]
          },
          "metadata": {},
          "execution_count": 20
        }
      ]
    },
    {
      "cell_type": "code",
      "execution_count": null,
      "metadata": {
        "id": "fdm_qklQ2n9Q"
      },
      "outputs": [],
      "source": [
        "special_characters = '\"!@#$%^&*()-+?_|=,<>/\"'"
      ]
    },
    {
      "cell_type": "code",
      "source": [
        "def tokenize(x):\n",
        "    tokenizer = Tokenizer(\n",
        "        filters=special_characters,\n",
        "        lower=True,\n",
        "        split=\" \"\n",
        "    )\n",
        "    tokenizer.fit_on_texts(x)\n",
        "    return tokenizer.texts_to_sequences(x), tokenizer"
      ],
      "metadata": {
        "id": "yW01KmCuH8qp"
      },
      "execution_count": null,
      "outputs": []
    },
    {
      "cell_type": "code",
      "source": [
        "def pad(x, length=None):\n",
        "    return pad_sequences(x, maxlen = 55, padding = 'post')"
      ],
      "metadata": {
        "id": "MiuIqmlmRXmx"
      },
      "execution_count": null,
      "outputs": []
    },
    {
      "cell_type": "code",
      "source": [
        "def preproc(x,length=None):\n",
        "  seq,tok=tokenize(x.apply(lambda x:str(x)))\n",
        "  padded_value=pad(seq,length)\n",
        "  #reshaped_value=padded_value.reshape(*padded_value.shape,1)\n",
        "  return padded_value,tok"
      ],
      "metadata": {
        "id": "3_dvZVpOSEQC"
      },
      "execution_count": null,
      "outputs": []
    },
    {
      "cell_type": "code",
      "source": [
        "preproc_english,english_tokenizer=preproc(df[\"English words/sentences\"])\n",
        "preproc_french,french_tokenizer=preproc(df[\"French words/sentences\"])"
      ],
      "metadata": {
        "id": "BSynppJqIeke"
      },
      "execution_count": null,
      "outputs": []
    },
    {
      "cell_type": "code",
      "source": [
        "eng_vocab_size=len(english_tokenizer.word_index)\n",
        "frn_vocab_size=len(french_tokenizer.word_index)"
      ],
      "metadata": {
        "id": "GSJt5Mq3mkVU"
      },
      "execution_count": null,
      "outputs": []
    },
    {
      "cell_type": "markdown",
      "source": [
        "##One-Hot representation of sentences"
      ],
      "metadata": {
        "id": "FQV5NM7OMBMA"
      }
    },
    {
      "cell_type": "code",
      "source": [
        "i=98\n",
        "print(df.iloc[i,0],\"\\nis represented as \\n\",preproc_english[i])\n",
        "print(df.iloc[i,1],\"\\nis represented as \\n\",preproc_french[i])"
      ],
      "metadata": {
        "colab": {
          "base_uri": "https://localhost:8080/"
        },
        "id": "KvkOse8b7Uyc",
        "outputId": "dd88711b-f460-4212-c516-1d98268e8098"
      },
      "execution_count": null,
      "outputs": [
        {
          "output_type": "stream",
          "name": "stdout",
          "text": [
            "Come in. \n",
            "is represented as \n",
            " [ 91 449   0   0   0   0   0   0   0   0   0   0   0   0   0   0   0   0\n",
            "   0   0   0   0   0   0   0   0   0   0   0   0   0   0   0   0   0   0\n",
            "   0   0   0   0   0   0   0   0   0   0   0   0   0   0   0   0   0   0\n",
            "   0]\n",
            "Entre. \n",
            "is represented as \n",
            " [8126    0    0    0    0    0    0    0    0    0    0    0    0    0\n",
            "    0    0    0    0    0    0    0    0    0    0    0    0    0    0\n",
            "    0    0    0    0    0    0    0    0    0    0    0    0    0    0\n",
            "    0    0    0    0    0    0    0    0    0    0    0    0    0]\n"
          ]
        }
      ]
    },
    {
      "cell_type": "markdown",
      "source": [
        "##Analysing Data\n"
      ],
      "metadata": {
        "id": "OgPmolSZw7h2"
      }
    },
    {
      "cell_type": "code",
      "source": [
        "english_words_counter = collections.Counter([word for sentence in df[\"English words/sentences\"] for word in sentence.split()])\n",
        "french_words_counter = collections.Counter([word for sentence in df[\"French words/sentences\"] for word in sentence.split()])\n",
        "\n",
        "print('{} English words.'.format(len([word for sentence in df[\"English words/sentences\"] for word in sentence.split()])))\n",
        "print('{} unique English words.'.format(len(english_words_counter)))\n",
        "print('\\n10 Most common words in the English dataset:')\n",
        "print('\"' + '\" \"'.join(list(zip(*english_words_counter.most_common(10)))[0]) + '\"')\n",
        "print(\"\\n-------------------------------------------------------------------\\n\")\n",
        "print('{} French words.'.format(len([word for sentence in df[\"French words/sentences\"] for word in sentence.split()])))\n",
        "print('{} unique French words.'.format(len(french_words_counter)))\n",
        "print('\\n10 Most common words in the French dataset:')\n",
        "print('\"' + '\" \"'.join(list(zip(*french_words_counter.most_common(10)))[0]) + '\"')"
      ],
      "metadata": {
        "colab": {
          "base_uri": "https://localhost:8080/"
        },
        "id": "-8et1BByvpCH",
        "outputId": "c1e1ec92-2fcc-46b3-8b29-3be2f760f660"
      },
      "execution_count": null,
      "outputs": [
        {
          "output_type": "stream",
          "name": "stdout",
          "text": [
            "1082098 English words.\n",
            "27393 unique English words.\n",
            "\n",
            "10 Most common words in the English dataset:\n",
            "\"I\" \"to\" \"you\" \"the\" \"a\" \"is\" \"Tom\" \"of\" \"in\" \"have\"\n",
            "\n",
            "-------------------------------------------------------------------\n",
            "\n",
            "1177832 French words.\n",
            "44918 unique French words.\n",
            "\n",
            "10 Most common words in the French dataset:\n",
            "\"de\" \"Je\" \"?\" \"pas\" \"que\" \"à\" \"ne\" \"la\" \"le\" \"Il\"\n"
          ]
        }
      ]
    },
    {
      "cell_type": "markdown",
      "source": [
        "#Building the model\n"
      ],
      "metadata": {
        "id": "E9KHYa0Fro1H"
      }
    },
    {
      "cell_type": "code",
      "source": [
        "def bd_model(input_shape, output_sequence_length, english_vocab_size, french_vocab_size):\n",
        "    learning_rate = 0.003\n",
        "    \n",
        "    # Build the layers\n",
        "    model = keras.Sequential()\n",
        "    model.add(layers.Embedding(english_vocab_size, 256, input_length=input_shape[1], input_shape=input_shape[1:]))\n",
        "    model.add(layers.Bidirectional(layers.GRU(256, return_sequences=True)))\n",
        "    model.add(layers.TimeDistributed(layers.Dense(1024, activation='relu')))\n",
        "    model.add(layers.TimeDistributed(layers.Dense(french_vocab_size, activation='softmax'))) \n",
        "\n",
        "    # Compile model\n",
        "    model.compile(loss=sparse_categorical_crossentropy,\n",
        "                  optimizer=Adam(learning_rate),\n",
        "                  metrics=['accuracy'])\n",
        "    return model"
      ],
      "metadata": {
        "id": "8ls2SWCN6z_5"
      },
      "execution_count": null,
      "outputs": []
    },
    {
      "cell_type": "code",
      "source": [
        "model=keras.models.load_model(\"/content/drive/MyDrive/en-fr.csv/checkpoint.h5\")\n",
        "model.summary()"
      ],
      "metadata": {
        "colab": {
          "base_uri": "https://localhost:8080/"
        },
        "id": "Svxtlqk3llF1",
        "outputId": "fc7425ca-fd08-4b98-e753-64b9543836ea"
      },
      "execution_count": null,
      "outputs": [
        {
          "output_type": "stream",
          "name": "stdout",
          "text": [
            "Model: \"sequential\"\n",
            "_________________________________________________________________\n",
            " Layer (type)                Output Shape              Param #   \n",
            "=================================================================\n",
            " embedding (Embedding)       (None, 55, 256)           5261568   \n",
            "                                                                 \n",
            " bidirectional (Bidirectiona  (None, 55, 512)          789504    \n",
            " l)                                                              \n",
            "                                                                 \n",
            " time_distributed (TimeDistr  (None, 55, 1024)         525312    \n",
            " ibuted)                                                         \n",
            "                                                                 \n",
            " time_distributed_1 (TimeDis  (None, 55, 40159)        41162975  \n",
            " tributed)                                                       \n",
            "                                                                 \n",
            "=================================================================\n",
            "Total params: 47,739,359\n",
            "Trainable params: 47,739,359\n",
            "Non-trainable params: 0\n",
            "_________________________________________________________________\n"
          ]
        }
      ]
    },
    {
      "cell_type": "markdown",
      "source": [
        "#Testing The Model"
      ],
      "metadata": {
        "id": "0b5os1s4xGzo"
      }
    },
    {
      "cell_type": "code",
      "source": [
        "i=10000\n",
        "j=20000\n",
        "\n",
        "score = model.evaluate(preproc_english[i:j], preproc_french[i:j], verbose=0)\n",
        "print('Test loss    :', score[0])\n",
        "print('Test accuracy:', score[1])"
      ],
      "metadata": {
        "colab": {
          "base_uri": "https://localhost:8080/"
        },
        "id": "zTfCRg3owSgB",
        "outputId": "dd0f39b4-bed6-4684-89dd-06412ee8c14a"
      },
      "execution_count": null,
      "outputs": [
        {
          "output_type": "stream",
          "name": "stdout",
          "text": [
            "Test loss    : 0.13109400868415833\n",
            "Test accuracy: 0.9681817889213562\n"
          ]
        }
      ]
    },
    {
      "cell_type": "code",
      "source": [
        "def sequence_to_text(sequence, tokenizer):\n",
        "  index_to_words = {id: word for word, id in tokenizer.word_index.items()}\n",
        "  index_to_words[0] = ''\n",
        "\n",
        "  return ' '.join([index_to_words[prediction] for prediction in np.argmax(sequence, 1)])"
      ],
      "metadata": {
        "id": "IJGMGzK18DSO"
      },
      "execution_count": null,
      "outputs": []
    },
    {
      "cell_type": "code",
      "source": [
        "def process_input(str):\n",
        "  words=str.split(\" \")\n",
        "  #removing !,.,?\n",
        "  words=[word[:-1] if word[-1] in [\".\",\"?\",\"!\"] else word for word in words]\n",
        "  words=[word for word in words if len(word)>0]\n",
        "  return \" \".join(words)"
      ],
      "metadata": {
        "id": "B2DZ6QYt6I_P"
      },
      "execution_count": null,
      "outputs": []
    },
    {
      "cell_type": "code",
      "source": [
        "i=12724\n",
        "test_input=preproc_english[i:i+1]\n",
        "predicted_sequence=model.predict(test_input,verbose=0)[0]\n",
        "translated_text=sequence_to_text(predicted_sequence,french_tokenizer)\n",
        "\n",
        "print(\"Original text :\")\n",
        "print(df[\"English words/sentences\"][i])\n",
        "print(\"\\nOriginal translated text is :\")\n",
        "print(df[\"French words/sentences\"][i])\n",
        "print(\"\\ntranslated text is :\")\n",
        "print(translated_text)"
      ],
      "metadata": {
        "colab": {
          "base_uri": "https://localhost:8080/"
        },
        "id": "ComvaxRmJ3BX",
        "outputId": "34026ef8-5e60-4169-d6b2-e8b17b696355"
      },
      "execution_count": null,
      "outputs": [
        {
          "output_type": "stream",
          "name": "stdout",
          "text": [
            "Original text :\n",
            "Wash the dishes.\n",
            "\n",
            "Original translated text is :\n",
            "Lave la vaisselle !\n",
            "\n",
            "translated text is :\n",
            "lave la vaisselle.                                                    \n"
          ]
        }
      ]
    },
    {
      "cell_type": "markdown",
      "source": [
        "#Tranalating inputed English sentence"
      ],
      "metadata": {
        "id": "i1x8kEcUxS3z"
      }
    },
    {
      "cell_type": "code",
      "source": [
        "inputed_text=input(\"Enter text to translater: \")\n",
        "inputed_text=process_input(inputed_text)\n",
        "\n",
        "word_index_english=english_tokenizer.word_index\n",
        "word_index_french=french_tokenizer.word_index\n",
        "\n",
        "try:\n",
        "  preproced_input=pad([[word_index_english[i.lower()] for i in inputed_text.split(\" \")]])\n",
        "  predicted_sequence=model.predict(preproced_input,verbose=0)[0]\n",
        "  translated_text=sequence_to_text(predicted_sequence,french_tokenizer)\n",
        "\n",
        "  print(\"\\nTranslated text is :\")\n",
        "  print(translated_text)\n",
        "\n",
        "except:\n",
        "  print(\"Inputed sentence contains words that are unrecognisable by the model try other sentence.\")"
      ],
      "metadata": {
        "colab": {
          "base_uri": "https://localhost:8080/"
        },
        "id": "7Tsl1Zg3iHS5",
        "outputId": "a0eef6f6-cafc-43e7-b8f9-62a3b7f9543b"
      },
      "execution_count": null,
      "outputs": [
        {
          "output_type": "stream",
          "name": "stdout",
          "text": [
            "Enter text to translater: are you fine?\n",
            "\n",
            "Translated text is :\n",
            "êtes tu bien                                                    \n"
          ]
        }
      ]
    }
  ],
  "metadata": {
    "colab": {
      "provenance": [],
      "mount_file_id": "1QIWMhbIqhPTwmTM3gYVM9bp18cYdQ23t",
      "authorship_tag": "ABX9TyPEdnt5C6cS79TYJF/j2fxv",
      "include_colab_link": true
    },
    "kernelspec": {
      "display_name": "Python 3",
      "name": "python3"
    },
    "language_info": {
      "name": "python"
    },
    "gpuClass": "standard",
    "accelerator": "GPU"
  },
  "nbformat": 4,
  "nbformat_minor": 0
}